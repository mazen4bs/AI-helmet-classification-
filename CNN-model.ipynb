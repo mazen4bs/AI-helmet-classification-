{
 "cells": [
  {
   "cell_type": "code",
   "execution_count": 3,
   "metadata": {},
   "outputs": [],
   "source": [
    "# Import necessary libraries\n",
    "import os\n",
    "from tensorflow import keras\n",
    "import numpy as np\n",
    "import tensorflow as tf\n",
    "from tensorflow import optimizers\n",
    "from keras import layers, models\n",
    "from keras.applications import ResNet50\n",
    "from keras.applications.resnet50 import preprocess_input\n",
    "from keras.preprocessing.image import load_img, img_to_array\n",
    "from lxml import etree\n",
    "import matplotlib.pyplot as plt"
   ]
  },
  {
   "cell_type": "code",
   "execution_count": 4,
   "metadata": {},
   "outputs": [],
   "source": [
    "# Define paths to annotation and image directories\n",
    "annotations_dir = \"C:\\\\Users\\\\mazen\\\\Desktop\\\\archive\\\\imagess\\\\img-annotations\"\n",
    "images_dir = \"C:\\\\Users\\\\mazen\\\\Desktop\\\\archive\\\\imagess\\\\image\"\n",
    "\n",
    "# Define classes\n",
    "classes = ['With Helmet', 'Without Helmet']"
   ]
  },
  {
   "cell_type": "code",
   "execution_count": 5,
   "metadata": {},
   "outputs": [],
   "source": [
    "# Parse XML annotations\n",
    "def parse_annotation(annotation_file):\n",
    "    tree = etree.parse(annotation_file)\n",
    "    root = tree.getroot()\n",
    "    objects = []\n",
    "    for obj in root.findall('object'):\n",
    "        obj_struct = {}\n",
    "        obj_struct['name'] = obj.find('name').text\n",
    "        bbox = obj.find('bndbox')\n",
    "        obj_struct['bbox'] = [int(bbox.find('xmin').text), int(bbox.find('ymin').text),\n",
    "                              int(bbox.find('xmax').text), int(bbox.find('ymax').text)]\n",
    "        objects.append(obj_struct)\n",
    "    return objects\n",
    "\n"
   ]
  },
  {
   "cell_type": "code",
   "execution_count": 6,
   "metadata": {},
   "outputs": [],
   "source": [
    "# Load images and annotations\n",
    "def load_data(annotations_dir, images_dir):\n",
    "    i=0\n",
    "    X, y = [], []\n",
    "    for annotation_file in os.listdir(annotations_dir):\n",
    "        if i>535:\n",
    "            return\n",
    "        if annotation_file.endswith('.xml'):\n",
    "            annotation_path = os.path.join(annotations_dir, annotation_file)\n",
    "            objects = parse_annotation(annotation_path)\n",
    "            image_path = os.path.join(images_dir, annotation_file.replace('.xml', '.png'))\n",
    "            image = load_img(image_path, target_size=(224, 224))\n",
    "            image = img_to_array(image)\n",
    "            X.append(preprocess_input(image))\n",
    "            labels = [0] * len(classes)\n",
    "            for obj in objects:\n",
    "                label_idx = classes.index(obj['name'])\n",
    "                labels[label_idx] = 1\n",
    "            y.append(labels)\n",
    "            i=i+1\n",
    "    return np.array(X), np.array(y)"
   ]
  }
 ],
 "metadata": {
  "kernelspec": {
   "display_name": "Python 3",
   "language": "python",
   "name": "python3"
  },
  "language_info": {
   "codemirror_mode": {
    "name": "ipython",
    "version": 3
   },
   "file_extension": ".py",
   "mimetype": "text/x-python",
   "name": "python",
   "nbconvert_exporter": "python",
   "pygments_lexer": "ipython3",
   "version": "3.12.1"
  }
 },
 "nbformat": 4,
 "nbformat_minor": 2
}
